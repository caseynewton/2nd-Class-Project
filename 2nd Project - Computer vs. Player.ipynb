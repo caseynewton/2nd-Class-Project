{
 "cells": [
  {
   "cell_type": "code",
   "execution_count": 1,
   "metadata": {},
   "outputs": [
    {
     "name": "stdout",
     "output_type": "stream",
     "text": [
      "Player, please enter your name. \tCASEY\n",
      "Casey, please type rock, paper or scissors. \tsusan\n",
      "\tCasey, please check the spell check is on and try again.\n",
      "Play again? (yes/no) \ty\n",
      "Casey, please type rock, paper or scissors. \trock\n",
      "\tCasey, you chose the same as the computer. \n",
      "\tIt is a tie... Try again.\n",
      "Play again? (yes/no)  \tn\n",
      "\tSeriously Casey that was a tie... \n",
      "\tWhat was the point? \n",
      "\tGood bye!\n"
     ]
    }
   ],
   "source": [
    "import random\n",
    "player_name = input(\"Player, please enter your name. \\t\")  \n",
    "while True:\n",
    "    choices = ['rock','paper','scissors']\n",
    "    computer = random.choice(choices)\n",
    "    player = input(f\"{player_name.title()}, please type rock, paper or scissors. \\t\")\n",
    "        \n",
    "    if player not in choices:\n",
    "        print(f\"\\t{player_name.title()}, please check the spell check is on and try again.\")\n",
    "        play_again = input(\"Play again? (yes/no) \\t\")\n",
    "        if play_again ==\"no\" or play_again ==\"n\":\n",
    "            print(f\"\\tSeriously {player_name.title()} win goes to computer because you can't spell?... \\n\\tGood bye!\")\n",
    "            break\n",
    "    \n",
    "    if player == computer:\n",
    "        print(f\"\\t{player_name.title()}, you chose the same as the computer. \\n\\tIt is a tie... Try again.\")\n",
    "        play_again = input(\"Play again? (yes/no)  \\t\")\n",
    "        if play_again ==\"no\" or play_again ==\"n\":\n",
    "            print(f\"\\tSeriously {player_name.title()} that was a tie... \\n\\tWhat was the point? \\n\\tGood bye!\")\n",
    "            break\n",
    "    \n",
    "    if \"rock\" in player and \"scissors\" in computer:\n",
    "        print(f\"\\t{player_name.title()}, you chose {player} and the computer chose {computer}. \\n\\tYou win!\")  \n",
    "        play_again = input(\"Play again? (yes/no)  \\t\")\n",
    "        if play_again ==\"no\" or play_again ==\"n\":\n",
    "            print(f\"\\tFine! Stay a winner {player_name.title()}... \\n\\tGood bye!\")\n",
    "            break\n",
    "    if \"rock\" in player and \"paper\" in computer:\n",
    "        print(f\"\\t{player_name.title()}, you chose {player} and the computer chose {computer}. \\n\\tThe computer wins\")\n",
    "        play_again = input(\"Play again? (yes/no)  \\t\")\n",
    "        if play_again ==\"no\" or play_again ==\"n\":\n",
    "            print(f\"\\tThank you for playing {player_name.title()}... \\n\\tYou are a SORE LOSER... \\n\\tGood bye!\")\n",
    "            break\n",
    "    \n",
    "    if \"scissors\" in player and \"rock\" in computer:\n",
    "        print(f\"\\t{player_name.title()}, you chose {player} and the computer chose {computer}. \\n\\tThe computer wins\")\n",
    "        play_again = input(\"Play again? (yes/no)  \\t\")\n",
    "        if play_again ==\"no\" or play_again ==\"n\":\n",
    "            print(f\"Thank you for playing {player_name.title()}... \\n\\tYou are a SORE LOSER... \\n\\tGood bye!\")\n",
    "            break\n",
    "    if \"scissors\" in player and \"paper\" in computer:\n",
    "        print(f\"\\t{player_name.title()}, you chose {player} and the computer chose {computer}. \\n\\tYou win!\")\n",
    "        play_again = input(\"Play again? (yes/no)  \\t\")\n",
    "        if play_again ==\"no\" or play_again ==\"n\":\n",
    "            print(f\"\\tFine! Stay a winner {player_name.title()}... \\n\\tGood bye!\")\n",
    "            break\n",
    "    \n",
    "    if \"paper\" in player and \"rock\" in computer:\n",
    "        print(f\"\\t{player_name.title()}, you chose {player} and the computer chose {computer}. \\n\\tYou win!\")\n",
    "        play_again = input(\"Play again? (yes/no) \\t\")\n",
    "        if play_again ==\"no\" or play_again ==\"n\":\n",
    "            print(f\"\\tFine! Stay a winner {player_name.title()}... \\n\\tGood bye!\")\n",
    "            break\n",
    "    if \"paper\" in player and \"scissors\" in computer:\n",
    "        print(f\"\\t{player_name.title()}, you chose {player} and computer chose {computer}. \\n\\tThe computer wins\")\n",
    "        play_again = input(\"Play again? (yes/no) \\t\")\n",
    "        if play_again ==\"no\" or play_again ==\"n\":\n",
    "            print(f\"\\tThank you for playing {player_name.title()}... \\n\\tYou are a SORE LOSER... \\n\\tGood bye!\")\n",
    "            break\n"
   ]
  },
  {
   "cell_type": "code",
   "execution_count": null,
   "metadata": {},
   "outputs": [],
   "source": []
  }
 ],
 "metadata": {
  "kernelspec": {
   "display_name": "Python 3",
   "language": "python",
   "name": "python3"
  },
  "language_info": {
   "codemirror_mode": {
    "name": "ipython",
    "version": 3
   },
   "file_extension": ".py",
   "mimetype": "text/x-python",
   "name": "python",
   "nbconvert_exporter": "python",
   "pygments_lexer": "ipython3",
   "version": "3.8.5"
  }
 },
 "nbformat": 4,
 "nbformat_minor": 4
}
