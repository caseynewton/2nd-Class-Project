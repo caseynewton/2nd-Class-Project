{
 "cells": [
  {
   "cell_type": "code",
   "execution_count": null,
   "metadata": {},
   "outputs": [],
   "source": [
    "while True:\n",
    "    player1 = input(\"Player 1, Please type rock, paper or scissors \")\n",
    "    player2 = input(\"Player 2, Please type rock, paper or scissors \")\n",
    "    \n",
    "    if player1 == player2:\n",
    "        print(\"Player 2, you chose the same as player 1. It is a tie. Try Again\")\n",
    "        play_again = input(\"Play again? (yes/no) \")\n",
    "        if play_again !=\"yes\":\n",
    "            print(\"Thank you for playing... Good bye!\")\n",
    "            break\n",
    "    \n",
    "    if \"rock\" in player1 and \"scissors\" in player2:\n",
    "        print(f\"Player 2, you chose {player2} and player 1 chose {player1}. Player 1 wins\")\n",
    "        play_again = input(\"Play again? (yes/no) \")\n",
    "        if play_again !=\"yes\":\n",
    "            print(\"Thank you for playing... Good bye!\")\n",
    "            break\n",
    "    if \"rock\" in player1 and \"paper\" in player2:\n",
    "        print(f\"Player 2, you chose {player2} and player 1 chose {player1}. Player 2 wins\")\n",
    "        play_again = input(\"Play again? (yes/no) \")\n",
    "        if play_again !=\"yes\":\n",
    "            print(\"Thank you for playing... Good bye!\")\n",
    "            break\n",
    "    \n",
    "    if \"scissors\" in player1 and \"rock\" in player2:\n",
    "        print(f\"Player 2, you chose {player2} and player 1 chose {player1}. Player 2 wins\")\n",
    "        play_again = input(\"Play again? (yes/no) \")\n",
    "        if play_again !=\"yes\":\n",
    "            print(\"Thank you for playing... Good bye!\")\n",
    "            break\n",
    "    if \"scissors\" in player1 and \"paper\" in player2:\n",
    "        print(f\"Player 2, you chose {player2} and player 1 chose {player1}. Player 1 wins\")\n",
    "        play_again = input(\"Play again? (yes/no) \")\n",
    "        if play_again !=\"yes\":\n",
    "            print(\"Thank you for playing... Good bye!\")\n",
    "            break\n",
    "    \n",
    "    if \"paper\" in player1 and \"rock\" in player2:\n",
    "        print(f\"Player 2, you chose {player2} and player 1 chose {player1}. Player 1 wins\")\n",
    "        play_again = input(\"Play again? (yes/no) \")\n",
    "        if play_again !=\"yes\":\n",
    "            print(\"Thank you for playing... Good bye!\")\n",
    "            break\n",
    "    if \"paper\" in player1 and \"scissors\" in player2:\n",
    "        print(f\"Player 2, you chose {player2} and player 1 chose {player1}. Player 2 wins\")\n",
    "        play_again = input(\"Play again? (yes/no) \")\n",
    "        if play_again !=\"yes\":\n",
    "            print(\"Thank you for playing... Good bye!\")\n",
    "            break\n"
   ]
  }
 ],
 "metadata": {
  "kernelspec": {
   "display_name": "Python 3",
   "language": "python",
   "name": "python3"
  },
  "language_info": {
   "codemirror_mode": {
    "name": "ipython",
    "version": 3
   },
   "file_extension": ".py",
   "mimetype": "text/x-python",
   "name": "python",
   "nbconvert_exporter": "python",
   "pygments_lexer": "ipython3",
   "version": "3.8.5"
  }
 },
 "nbformat": 4,
 "nbformat_minor": 4
}
