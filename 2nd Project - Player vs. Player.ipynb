{
 "cells": [
  {
   "cell_type": "code",
   "execution_count": 4,
   "metadata": {},
   "outputs": [
    {
     "name": "stdout",
     "output_type": "stream",
     "text": [
      "Player 1, please enter your name. \tCASEY\n",
      "Player 2, please enter your name. \tSusan\n",
      "Casey, please type rock, paper or scissors \tpaper\n",
      "Susan, please type rock, paper or scissors \trock\n",
      "\tSusan, you chose rock and Casey chose paper. \n",
      "\tCasey wins!\n",
      "Play again? (yes/no) \tno\n",
      "\tThank you for playing... \n",
      "\tGood bye!\n"
     ]
    }
   ],
   "source": [
    "player_name_1 = input(\"Player 1, please enter your name. \\t\")  \n",
    "player_name_2 = input(\"Player 2, please enter your name. \\t\")  \n",
    "while True:\n",
    "    choices = ['rock','paper','scissors']\n",
    "    player1 = input(f\"{player_name_1.title()}, please type rock, paper or scissors \\t\")\n",
    "    player2 = input(f\"{player_name_2.title()}, please type rock, paper or scissors \\t\")\n",
    "    \n",
    "    if player1 not in choices or player2 not in choices:\n",
    "        print(f\"\\t{player_name_1.title()} and {player_name_2.title()}, please check the spell check is on and try again.\")\n",
    "        play_again = input(\"Play again? (yes/no)  \\t\")\n",
    "        if play_again ==\"no\" or play_again ==\"n\":\n",
    "            print(f\"\\tSeriously? No one wins because neither or you can figure out spell check... \\n\\tGood bye!\")\n",
    "            break\n",
    "    \n",
    "    if player1 == player2:\n",
    "        print(f\"\\t{player_name_2.title()} chose the same as {player_name_1.title()}. \\n\\tIt is a tie. Try Again.\")\n",
    "        play_again = input(\"Play again? (yes/no) \\t\")\n",
    "        if play_again ==\"no\" or play_again ==\"n\":\n",
    "            print(f\"\\tSeriously? That was a tie... \\n\\tWhat was the point? \\n\\tGood bye!\")\n",
    "            break\n",
    "    \n",
    "    if \"rock\" in player1 and \"scissors\" in player2:\n",
    "        print(f\"\\t{player_name_2.title()} chose {player2} and {player_name_1.title()} chose {player1}. \\n\\t{player_name_1.title()} wins!\")\n",
    "        play_again = input(\"Play again? (yes/no) \\t\")\n",
    "        if play_again ==\"no\" or play_again ==\"n\":\n",
    "            print(\"\\tThank you for playing... \\n\\tGood bye!\")\n",
    "            break\n",
    "    if \"rock\" in player1 and \"paper\" in player2:\n",
    "        print(f\"\\t{player_name_2.title()} chose {player2} and {player_name_1.title()} chose {player1}. \\n\\t{player_name_2.title()} wins!\")\n",
    "        play_again = input(\"Play again? (yes/no) \\t\")\n",
    "        if play_again ==\"no\" or play_again ==\"n\":\n",
    "            print(\"\\tThank you for playing... \\n\\tGood bye!\")\n",
    "            break\n",
    "    \n",
    "    if \"scissors\" in player1 and \"rock\" in player2:\n",
    "        print(f\"\\t{player_name_2.title()}, you chose {player2} and {player_name_1.title()} chose {player1}. \\n\\t{player_name_2.title()} wins!\")\n",
    "        play_again = input(\"Play again? (yes/no) \\t\")\n",
    "        if play_again ==\"no\" or play_again ==\"n\":\n",
    "            print(\"\\tThank you for playing... \\n\\tGood bye!\")\n",
    "            break\n",
    "    if \"scissors\" in player1 and \"paper\" in player2:\n",
    "        print(f\"\\t{player_name_2.title()}, you chose {player2} and {player_name_1.title()} chose {player1}. \\n\\t{player_name_1.title()} wins!\")\n",
    "        play_again = input(\"Play again? (yes/no) \\t\")\n",
    "        if play_again ==\"no\" or play_again ==\"n\":\n",
    "            print(\"\\tThank you for playing... \\n\\tGood bye!\")\n",
    "            break\n",
    "    \n",
    "    if \"paper\" in player1 and \"rock\" in player2:\n",
    "        print(f\"\\t{player_name_2.title()}, you chose {player2} and {player_name_1.title()} chose {player1}. \\n\\t{player_name_1.title()} wins!\")\n",
    "        play_again = input(\"Play again? (yes/no) \\t\")\n",
    "        if play_again ==\"no\" or play_again ==\"n\":\n",
    "            print(\"\\tThank you for playing... \\n\\tGood bye!\")\n",
    "            break\n",
    "    if \"paper\" in player1 and \"scissors\" in player2:\n",
    "        print(f\"\\t{player_name_2.title()}, you chose {player2} and {player_name_1.title()} chose {player1}. \\n\\t{player_name_2.title()} wins!\")\n",
    "        play_again = input(\"Play again? (yes/no) \\t\")\n",
    "        if play_again ==\"no\" or play_again ==\"n\":\n",
    "            print(\"\\tThank you for playing... \\n\\tGood bye!\")\n",
    "            break\n"
   ]
  },
  {
   "cell_type": "code",
   "execution_count": null,
   "metadata": {},
   "outputs": [],
   "source": []
  }
 ],
 "metadata": {
  "kernelspec": {
   "display_name": "Python 3",
   "language": "python",
   "name": "python3"
  },
  "language_info": {
   "codemirror_mode": {
    "name": "ipython",
    "version": 3
   },
   "file_extension": ".py",
   "mimetype": "text/x-python",
   "name": "python",
   "nbconvert_exporter": "python",
   "pygments_lexer": "ipython3",
   "version": "3.8.5"
  }
 },
 "nbformat": 4,
 "nbformat_minor": 4
}
